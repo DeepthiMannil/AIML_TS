{
 "cells": [
  {
   "cell_type": "code",
   "execution_count": 1,
   "metadata": {},
   "outputs": [
    {
     "data": {
      "text/html": [
       "<div>\n",
       "<style scoped>\n",
       "    .dataframe tbody tr th:only-of-type {\n",
       "        vertical-align: middle;\n",
       "    }\n",
       "\n",
       "    .dataframe tbody tr th {\n",
       "        vertical-align: top;\n",
       "    }\n",
       "\n",
       "    .dataframe thead th {\n",
       "        text-align: right;\n",
       "    }\n",
       "</style>\n",
       "<table border=\"1\" class=\"dataframe\">\n",
       "  <thead>\n",
       "    <tr style=\"text-align: right;\">\n",
       "      <th></th>\n",
       "      <th>datetime</th>\n",
       "      <th>Temperature</th>\n",
       "    </tr>\n",
       "  </thead>\n",
       "  <tbody>\n",
       "    <tr>\n",
       "      <th>0</th>\n",
       "      <td>19961101-11:00</td>\n",
       "      <td>30.0</td>\n",
       "    </tr>\n",
       "    <tr>\n",
       "      <th>1</th>\n",
       "      <td>19961101-12:00</td>\n",
       "      <td>28.0</td>\n",
       "    </tr>\n",
       "    <tr>\n",
       "      <th>2</th>\n",
       "      <td>19961101-13:00</td>\n",
       "      <td>24.0</td>\n",
       "    </tr>\n",
       "    <tr>\n",
       "      <th>3</th>\n",
       "      <td>19961101-14:00</td>\n",
       "      <td>24.0</td>\n",
       "    </tr>\n",
       "    <tr>\n",
       "      <th>4</th>\n",
       "      <td>19961101-16:00</td>\n",
       "      <td>23.0</td>\n",
       "    </tr>\n",
       "  </tbody>\n",
       "</table>\n",
       "</div>"
      ],
      "text/plain": [
       "         datetime  Temperature\n",
       "0  19961101-11:00         30.0\n",
       "1  19961101-12:00         28.0\n",
       "2  19961101-13:00         24.0\n",
       "3  19961101-14:00         24.0\n",
       "4  19961101-16:00         23.0"
      ]
     },
     "execution_count": 1,
     "metadata": {},
     "output_type": "execute_result"
    }
   ],
   "source": [
    "import pandas as pd\n",
    "from datetime import datetime\n",
    "import matplotlib.pyplot as plt\n",
    "data=pd.read_csv(r\"C:\\Users\\Rahul\\Desktop\\ML\\testset.csv\")\n",
    "data.head()"
   ]
  },
  {
   "cell_type": "code",
   "execution_count": 2,
   "metadata": {},
   "outputs": [
    {
     "data": {
      "text/html": [
       "<div>\n",
       "<style scoped>\n",
       "    .dataframe tbody tr th:only-of-type {\n",
       "        vertical-align: middle;\n",
       "    }\n",
       "\n",
       "    .dataframe tbody tr th {\n",
       "        vertical-align: top;\n",
       "    }\n",
       "\n",
       "    .dataframe thead th {\n",
       "        text-align: right;\n",
       "    }\n",
       "</style>\n",
       "<table border=\"1\" class=\"dataframe\">\n",
       "  <thead>\n",
       "    <tr style=\"text-align: right;\">\n",
       "      <th></th>\n",
       "      <th>Temperature</th>\n",
       "    </tr>\n",
       "    <tr>\n",
       "      <th>datetime</th>\n",
       "      <th></th>\n",
       "    </tr>\n",
       "  </thead>\n",
       "  <tbody>\n",
       "    <tr>\n",
       "      <th>1996-11-01 11:00:00</th>\n",
       "      <td>30.0</td>\n",
       "    </tr>\n",
       "    <tr>\n",
       "      <th>1996-11-01 12:00:00</th>\n",
       "      <td>28.0</td>\n",
       "    </tr>\n",
       "    <tr>\n",
       "      <th>1996-11-01 13:00:00</th>\n",
       "      <td>24.0</td>\n",
       "    </tr>\n",
       "    <tr>\n",
       "      <th>1996-11-01 14:00:00</th>\n",
       "      <td>24.0</td>\n",
       "    </tr>\n",
       "    <tr>\n",
       "      <th>1996-11-01 16:00:00</th>\n",
       "      <td>23.0</td>\n",
       "    </tr>\n",
       "  </tbody>\n",
       "</table>\n",
       "</div>"
      ],
      "text/plain": [
       "                     Temperature\n",
       "datetime                        \n",
       "1996-11-01 11:00:00         30.0\n",
       "1996-11-01 12:00:00         28.0\n",
       "1996-11-01 13:00:00         24.0\n",
       "1996-11-01 14:00:00         24.0\n",
       "1996-11-01 16:00:00         23.0"
      ]
     },
     "execution_count": 2,
     "metadata": {},
     "output_type": "execute_result"
    }
   ],
   "source": [
    "#data['datetime'] = pd.to_datetime(data['datetime'].apply(lambda x: datetime.strptime(x,\"%Y%m%d-%H:%M\").strftime(\"%Y-%m-%d %H:%M\")))\n",
    "data['datetime']=data['datetime'].apply(lambda x: datetime.strptime(x,\"%Y%m%d-%H:%M\"))\n",
    "data=data.set_index('datetime')\n",
    "#data=data['2001':]\n",
    "\n",
    "#data.iloc[0,0]\n",
    "if data['Temperature'].isnull().values.any()==True:\n",
    "    data[data['Temperature'].isnull()]=data['Temperature'].mean()\n",
    "data.head()   "
   ]
  },
  {
   "cell_type": "code",
   "execution_count": 3,
   "metadata": {},
   "outputs": [
    {
     "name": "stderr",
     "output_type": "stream",
     "text": [
      "C:\\Users\\Rahul\\Anaconda3\\lib\\site-packages\\pandas\\plotting\\_matplotlib\\converter.py:103: FutureWarning: Using an implicitly registered datetime converter for a matplotlib plotting method. The converter was registered by pandas on import. Future versions of pandas will require you to explicitly register matplotlib converters.\n",
      "\n",
      "To register the converters:\n",
      "\t>>> from pandas.plotting import register_matplotlib_converters\n",
      "\t>>> register_matplotlib_converters()\n",
      "  warnings.warn(msg, FutureWarning)\n"
     ]
    },
    {
     "data": {
      "text/plain": [
       "[<matplotlib.lines.Line2D at 0x242e701a348>]"
      ]
     },
     "execution_count": 3,
     "metadata": {},
     "output_type": "execute_result"
    },
    {
     "data": {
      "image/png": "[encoded data removed]",
      "text/plain": [
       "<Figure size 1152x360 with 1 Axes>"
      ]
     },
     "metadata": {
      "needs_background": "light"
     },
     "output_type": "display_data"
    }
   ],
   "source": [
    "plt.figure(figsize=(16,5))\n",
    "plt.xlabel('datetime')\n",
    "plt.ylabel('Temperature')\n",
    "plt.plot(data)"
   ]
  },
  {
   "cell_type": "code",
   "execution_count": 5,
   "metadata": {},
   "outputs": [
    {
     "data": {
      "text/html": [
       "<div>\n",
       "<style scoped>\n",
       "    .dataframe tbody tr th:only-of-type {\n",
       "        vertical-align: middle;\n",
       "    }\n",
       "\n",
       "    .dataframe tbody tr th {\n",
       "        vertical-align: top;\n",
       "    }\n",
       "\n",
       "    .dataframe thead th {\n",
       "        text-align: right;\n",
       "    }\n",
       "</style>\n",
       "<table border=\"1\" class=\"dataframe\">\n",
       "  <thead>\n",
       "    <tr style=\"text-align: right;\">\n",
       "      <th></th>\n",
       "      <th>t</th>\n",
       "      <th>t+1</th>\n",
       "      <th>t+2</th>\n",
       "    </tr>\n",
       "  </thead>\n",
       "  <tbody>\n",
       "    <tr>\n",
       "      <th>0</th>\n",
       "      <td>NaN</td>\n",
       "      <td>NaN</td>\n",
       "      <td>30.0</td>\n",
       "    </tr>\n",
       "    <tr>\n",
       "      <th>1</th>\n",
       "      <td>NaN</td>\n",
       "      <td>30.0</td>\n",
       "      <td>28.0</td>\n",
       "    </tr>\n",
       "    <tr>\n",
       "      <th>2</th>\n",
       "      <td>30.0</td>\n",
       "      <td>28.0</td>\n",
       "      <td>24.0</td>\n",
       "    </tr>\n",
       "    <tr>\n",
       "      <th>3</th>\n",
       "      <td>28.0</td>\n",
       "      <td>24.0</td>\n",
       "      <td>24.0</td>\n",
       "    </tr>\n",
       "    <tr>\n",
       "      <th>4</th>\n",
       "      <td>24.0</td>\n",
       "      <td>24.0</td>\n",
       "      <td>23.0</td>\n",
       "    </tr>\n",
       "  </tbody>\n",
       "</table>\n",
       "</div>"
      ],
      "text/plain": [
       "      t   t+1   t+2\n",
       "0   NaN   NaN  30.0\n",
       "1   NaN  30.0  28.0\n",
       "2  30.0  28.0  24.0\n",
       "3  28.0  24.0  24.0\n",
       "4  24.0  24.0  23.0"
      ]
     },
     "execution_count": 5,
     "metadata": {},
     "output_type": "execute_result"
    }
   ],
   "source": [
    "#series = pd.read_csv(r\"C:\\Users\\srtpa\\Downloads\\datasets_1057_1913_AirPassengers.csv\", header=0, index_col=0,\n",
    "#parse_dates=True, squeeze=True)\n",
    "#temps = DataFrame(series.values)\n",
    "from pandas import concat\n",
    "#dataframe = concat([temps.shift(1), temps], axis=1)\n",
    "#dataframe.columns = ['t','t+1']\n",
    "#print(dataframe.head(5))\n",
    "temps=pd.DataFrame(data['Temperature'].values)\n",
    "dataframe = concat([temps.shift(2),temps.shift(1), temps], axis=1)\n",
    "dataframe.columns = ['t','t+1','t+2']\n",
    "dataframe.head()"
   ]
  },
  {
   "cell_type": "code",
   "execution_count": 7,
   "metadata": {},
   "outputs": [
    {
     "data": {
      "text/html": [
       "<div>\n",
       "<style scoped>\n",
       "    .dataframe tbody tr th:only-of-type {\n",
       "        vertical-align: middle;\n",
       "    }\n",
       "\n",
       "    .dataframe tbody tr th {\n",
       "        vertical-align: top;\n",
       "    }\n",
       "\n",
       "    .dataframe thead th {\n",
       "        text-align: right;\n",
       "    }\n",
       "</style>\n",
       "<table border=\"1\" class=\"dataframe\">\n",
       "  <thead>\n",
       "    <tr style=\"text-align: right;\">\n",
       "      <th></th>\n",
       "      <th>Temperature</th>\n",
       "    </tr>\n",
       "    <tr>\n",
       "      <th>datetime</th>\n",
       "      <th></th>\n",
       "    </tr>\n",
       "  </thead>\n",
       "  <tbody>\n",
       "    <tr>\n",
       "      <th>2001-01-01 00:30:00</th>\n",
       "      <td>14.0</td>\n",
       "    </tr>\n",
       "    <tr>\n",
       "      <th>2001-01-01 01:30:00</th>\n",
       "      <td>13.0</td>\n",
       "    </tr>\n",
       "    <tr>\n",
       "      <th>2001-01-01 02:30:00</th>\n",
       "      <td>13.0</td>\n",
       "    </tr>\n",
       "    <tr>\n",
       "      <th>2001-01-01 03:30:00</th>\n",
       "      <td>13.0</td>\n",
       "    </tr>\n",
       "    <tr>\n",
       "      <th>2001-01-01 04:30:00</th>\n",
       "      <td>13.0</td>\n",
       "    </tr>\n",
       "  </tbody>\n",
       "</table>\n",
       "</div>"
      ],
      "text/plain": [
       "                     Temperature\n",
       "datetime                        \n",
       "2001-01-01 00:30:00         14.0\n",
       "2001-01-01 01:30:00         13.0\n",
       "2001-01-01 02:30:00         13.0\n",
       "2001-01-01 03:30:00         13.0\n",
       "2001-01-01 04:30:00         13.0"
      ]
     },
     "execution_count": 7,
     "metadata": {},
     "output_type": "execute_result"
    }
   ],
   "source": [
    "#data['Temperature'].isnull().values.any()\n",
    "\n",
    "\n",
    "#newdata = data['2001':].resample('M').mean()\n",
    "newdata = data['2001':]\n",
    "newdata.head()"
   ]
  },
  {
   "cell_type": "code",
   "execution_count": 6,
   "metadata": {},
   "outputs": [],
   "source": [
    "#WEEK2:QN:Perform the analysis done in this week on the mean temperature dataset. \n",
    "\n",
    "from statsmodels.tsa.stattools import adfuller\n",
    "def stationarity_check(ts):\n",
    "    \n",
    "    # Determing rolling statistics\n",
    "    roll_mean = ts.rolling(window=12).mean()\n",
    "    movingstd=ts.rolling(window=12).std()\n",
    "    # Plot rolling statistics:\n",
    "    plt.plot(ts, color='green',label='Original')\n",
    "    plt.plot(roll_mean, color='blue', label='Rolling Mean')\n",
    "    plt.plot(movingstd, color='black', label='Rolling Std')\n",
    "    plt.legend(loc='best')\n",
    "    plt.title('Rolling Mean and Std')\n",
    "    plt.show(block=False)\n",
    "    \n",
    "    # Perform Augmented Dickey-Fuller test:\n",
    "    print('Augmented Dickey-Fuller test:')\n",
    "    df_test = adfuller(ts)\n",
    "   # print(\"type of df_test: \",type(df_test))\n",
    "  #  print(\"df_test: \",df_test)\n",
    "    df_output = pd.Series(df_test[0:4], index=['Test Statistic','p-value','#Lags Used','Number of Observations Used'])\n",
    "   # print(\"df_output: \\n\",df_output)\n",
    "    for key,value in df_test[4].items():\n",
    "        df_output['Critical Value (%s)'%key] = value\n",
    "    print(df_output)\n",
    "    \n",
    "    "
   ]
  },
  {
   "cell_type": "code",
   "execution_count": 8,
   "metadata": {},
   "outputs": [
    {
     "data": {
      "image/png": "[encoded data removed]",
      "text/plain": [
       "<Figure size 432x288 with 1 Axes>"
      ]
     },
     "metadata": {
      "needs_background": "light"
     },
     "output_type": "display_data"
    },
    {
     "name": "stdout",
     "output_type": "stream",
     "text": [
      "Augmented Dickey-Fuller test:\n",
      "Test Statistic                -6.979871e+00\n",
      "p-value                        8.244862e-10\n",
      "#Lags Used                     6.400000e+01\n",
      "Number of Observations Used    7.786400e+04\n",
      "Critical Value (1%)           -3.430434e+00\n",
      "Critical Value (5%)           -2.861577e+00\n",
      "Critical Value (10%)          -2.566790e+00\n",
      "dtype: float64\n"
     ]
    }
   ],
   "source": [
    "#type(newdata['Temperature'])\n",
    "stationarity_check(newdata['Temperature'])"
   ]
  },
  {
   "cell_type": "markdown",
   "metadata": {},
   "source": [
    "#Week2:Also, write in detail about the insights you found while doing the analysis.\n",
    "----------------------------------------------------------------------------------------------------------------------\n",
    "Here we see that after performing the ADF test the P value is  8.244862e-10\n",
    " (<0.01) and the test statistic value is outside the critical value. Thus the ADF test  rejects the null hypothesis and implies that the distribution is stationary."
   ]
  },
  {
   "cell_type": "markdown",
   "metadata": {},
   "source": [
    "#Week2 Write about the p-value, test statistic, critical values in detail and how are they important to determine stationarity\n",
    "-------------------------------------------------- \n",
    "\n",
    "Critical value of a hypothesis test depends on the Significance level(alpha, usually chosen as 0.1, 0.05, 0.01 etc).\n",
    "Critical values define the cut off of the regions where the test statistic is unlikely to lie. The null hypothesis test is rejected if the test statistic exceeds this critical values.\n",
    "The p-value is the probability of the test statistic being at least as extreme as the one observed given that the null hypothesis is true. A small p-value is an indication that the null hypothesis is false.\n"
   ]
  },
  {
   "cell_type": "markdown",
   "metadata": {},
   "source": [
    "#Week2:Write about steps that can be taken to make a time-series stationary\n",
    "------------------------------------------------------------------------------\n",
    "In order to make a time series a method called diffing is used. Here we take the difference between the data points and create a new time series. If the time series is still non stationary we can perform the diffing multiple times. But this makes the analysis more complex."
   ]
  },
  {
   "cell_type": "markdown",
   "metadata": {},
   "source": [
    "#week2:Understand the ADF test mathematically.\n",
    "----------------------------------------------------------------------\n",
    "                        ADF test is used to test the stationarity of the time series.\n",
    "If we model a time series as below: considering the stochastic (random) part of time series\n",
    "\n",
    "yt =  c+ фyt-1+et  -----(1) ,where c=constant, et=error .So here the current value depends only on the previous value. \n",
    "by subtracting yt-1 from both sides of (1) \n",
    "\n",
    "Δy=c+(1-ф) yt-1 +et , when ф=1( unit root ) and the yt-1 does not  provide any information in predicting the change in the yt. \n",
    "\n",
    "When we consider only one previous value, we use the Dickey –Fuller test to check if it has uniroot. We can not use T-test, as the null hypothesis assumes series to be stationary. Hence we use the new test. \n",
    "\n",
    "This is a one-sided left tail test. Here we can reject the null hypothesis when ф<1. In this case the test statistic will be  negative. If it is less than the critical value (which is also negative) we can reject the null hypothesis and prove that there are no unit roots and hence the time series is stationary.\n",
    "\n",
    "In the ADF test we consider not just the dependency on the immediate previous value, but also other previous values (including lags of higher order).Here also we are checking for the unit roots. To determine the lags,  significance of each lag has to be checked (could be done by T-tests).\n",
    " \n",
    "\n"
   ]
  },
  {
   "cell_type": "code",
   "execution_count": null,
   "metadata": {},
   "outputs": [],
   "source": []
  }
 ],
 "metadata": {
  "kernelspec": {
   "display_name": "Python 3",
   "language": "python",
   "name": "python3"
  },
  "language_info": {
   "codemirror_mode": {
    "name": "ipython",
    "version": 3
   },
   "file_extension": ".py",
   "mimetype": "text/x-python",
   "name": "python",
   "nbconvert_exporter": "python",
   "pygments_lexer": "ipython3",
   "version": "3.7.5"
  }
 },
 "nbformat": 4,
 "nbformat_minor": 2
}
